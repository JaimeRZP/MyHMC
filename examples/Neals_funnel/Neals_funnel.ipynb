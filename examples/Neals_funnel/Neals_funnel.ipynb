{
 "cells": [
  {
   "attachments": {},
   "cell_type": "markdown",
   "id": "91129cb1",
   "metadata": {},
   "source": [
    "# Neal's Funnel Target Practice"
   ]
  },
  {
   "cell_type": "code",
   "execution_count": 1,
   "id": "86b96c9e",
   "metadata": {},
   "outputs": [
    {
     "name": "stderr",
     "output_type": "stream",
     "text": [
      "\u001b[32m\u001b[1m  Activating\u001b[22m\u001b[39m project at `~/PhD/MyHMC/examples`\n"
     ]
    }
   ],
   "source": [
    "] activate \"../\""
   ]
  },
  {
   "cell_type": "code",
   "execution_count": 2,
   "id": "baed58e3",
   "metadata": {},
   "outputs": [],
   "source": [
    "# The statistical inference frame-work we will use\n",
    "using Turing\n",
    "using ForwardDiff\n",
    "using LinearAlgebra\n",
    "using Random\n",
    "#using StatsPlots\n",
    "using PyPlot\n",
    "using Distributed\n",
    "\n",
    "using Revise\n",
    "using MyHMC"
   ]
  },
  {
   "cell_type": "code",
   "execution_count": 3,
   "id": "90fdb90c",
   "metadata": {},
   "outputs": [
    {
     "data": {
      "text/plain": [
       "true_funnel (generic function with 2 methods)"
      ]
     },
     "execution_count": 3,
     "metadata": {},
     "output_type": "execute_result"
    }
   ],
   "source": [
    "d = 21\n",
    "@model function funnel()\n",
    "    θ ~ Normal(0, 3)\n",
    "    z ~ MvNormal(zeros(d-1), exp(θ)*I)\n",
    "    x ~ MvNormal(z, I)\n",
    "end\n",
    "\n",
    "@model function true_funnel()\n",
    "    θ ~ Normal(0, 3)\n",
    "    z ~ MvNormal(zeros(d-1), I)\n",
    "    zz = z .* exp(θ/2)\n",
    "    x ~ MvNormal(zz, I)\n",
    "    \n",
    "end"
   ]
  },
  {
   "cell_type": "code",
   "execution_count": 4,
   "id": "1eebe796",
   "metadata": {},
   "outputs": [
    {
     "data": {
      "text/plain": [
       "DynamicPPL.Model{typeof(true_funnel), (), (), (), Tuple{}, Tuple{}, DynamicPPL.ConditionContext{NamedTuple{(:x,), Tuple{Vector{Float64}}}, DynamicPPL.DefaultContext}}(true_funnel, NamedTuple(), NamedTuple(), ConditionContext((x = [1.2142074831535152, 1.23371919965455, -0.8480146960461767, 0.1600994648479841, 1.9180385508479283, -3.401523464506408, -0.0957684186471088, 0.6734622629464286, -3.2749467689509633, -1.6760091758453226, 1.9567202902549736, 0.1136169088905351, 0.11117896909388916, -0.5373922347882832, -0.12436857036298687, -1.2901071061088532, 1.702584517514787, -0.44460133117954226, 1.0818722439221686, 1.2208011493237483],), DynamicPPL.DefaultContext()))"
      ]
     },
     "execution_count": 4,
     "metadata": {},
     "output_type": "execute_result"
    }
   ],
   "source": [
    "Random.seed!(1)\n",
    "(;x) = rand(funnel() | (θ=0,))\n",
    "funnel_model = funnel() | (;x)\n",
    "\n",
    "Random.seed!(1)\n",
    "(;x) = rand(true_funnel() | (θ=0,))\n",
    "true_model = true_funnel() | (;x)"
   ]
  },
  {
   "attachments": {},
   "cell_type": "markdown",
   "id": "503e3204",
   "metadata": {},
   "source": [
    "## MyHMC"
   ]
  },
  {
   "cell_type": "code",
   "execution_count": 8,
   "id": "7fba4eaa",
   "metadata": {
    "scrolled": false
   },
   "outputs": [
    {
     "data": {
      "text/plain": [
       "Turing.Inference.ExternalSampler{MyHMC.MyHMCSampler}(MyHMC.MyHMCSampler(Settings(1, \"LF\"), MyHMC.Hyperparameters(0.25, 20, [0.0]), MyHMC.Leapfrog))"
      ]
     },
     "execution_count": 8,
     "metadata": {},
     "output_type": "execute_result"
    }
   ],
   "source": [
    "spl = MyHMC.HMC(20, 0.25)\n",
    "espl = externalsampler(spl)"
   ]
  },
  {
   "cell_type": "code",
   "execution_count": 9,
   "id": "d8e6a5cd",
   "metadata": {},
   "outputs": [
    {
     "name": "stderr",
     "output_type": "stream",
     "text": [
      "\u001b[32mSampling: 100%|█████████████████████████████████████████| Time: 0:00:35\u001b[39m\n"
     ]
    }
   ],
   "source": [
    "samples = sample(funnel_model, espl, 100_000);"
   ]
  },
  {
   "cell_type": "code",
   "execution_count": 10,
   "id": "0bdd65cb",
   "metadata": {},
   "outputs": [],
   "source": [
    "theta_mchmc = [samples.value.data[i, 1, :][1] for i in axes(samples.value.data)[1]]\n",
    "x10_mchmc = [samples.value.data[i, 10+1, :][1] for i in axes(samples.value.data)[1]];"
   ]
  },
  {
   "attachments": {},
   "cell_type": "markdown",
   "id": "4aadd3b5",
   "metadata": {},
   "source": [
    "## NUTS"
   ]
  },
  {
   "cell_type": "code",
   "execution_count": 11,
   "id": "dcbe40a3",
   "metadata": {},
   "outputs": [
    {
     "name": "stderr",
     "output_type": "stream",
     "text": [
      "\u001b[36m\u001b[1m┌ \u001b[22m\u001b[39m\u001b[36m\u001b[1mInfo: \u001b[22m\u001b[39mFound initial step size\n",
      "\u001b[36m\u001b[1m└ \u001b[22m\u001b[39m  ϵ = 0.8\n",
      "\u001b[32mSampling: 100%|█████████████████████████████████████████| Time: 0:00:43\u001b[39m\n"
     ]
    },
    {
     "data": {
      "text/plain": [
       "Chains MCMC chain (50000×33×1 Array{Float64, 3}):\n",
       "\n",
       "Iterations        = 11:1:50010\n",
       "Number of chains  = 1\n",
       "Samples per chain = 50000\n",
       "Wall duration     = 47.56 seconds\n",
       "Compute duration  = 47.56 seconds\n",
       "parameters        = θ, z[1], z[2], z[3], z[4], z[5], z[6], z[7], z[8], z[9], z[10], z[11], z[12], z[13], z[14], z[15], z[16], z[17], z[18], z[19], z[20]\n",
       "internals         = lp, n_steps, is_accept, acceptance_rate, log_density, hamiltonian_energy, hamiltonian_energy_error, max_hamiltonian_energy_error, tree_depth, numerical_error, step_size, nom_step_size\n",
       "\n",
       "Summary Statistics\n",
       " \u001b[1m parameters \u001b[0m \u001b[1m    mean \u001b[0m \u001b[1m     std \u001b[0m \u001b[1m    mcse \u001b[0m \u001b[1m   ess_bulk \u001b[0m \u001b[1m   ess_tail \u001b[0m \u001b[1m    rhat\u001b[0m ⋯\n",
       " \u001b[90m     Symbol \u001b[0m \u001b[90m Float64 \u001b[0m \u001b[90m Float64 \u001b[0m \u001b[90m Float64 \u001b[0m \u001b[90m    Float64 \u001b[0m \u001b[90m    Float64 \u001b[0m \u001b[90m Float64\u001b[0m ⋯\n",
       "\n",
       "           θ   -0.0497    0.8655    0.0254    3042.0652    1209.4119    1.0003 ⋯\n",
       "        z[1]    0.6036    0.7372    0.0040   33619.6032   31402.0978    1.0001 ⋯\n",
       "        z[2]    0.6130    0.7369    0.0044   28609.9766   34566.2552    1.0000 ⋯\n",
       "        z[3]   -0.4246    0.7210    0.0032   51746.2145   32485.7054    1.0000 ⋯\n",
       "        z[4]    0.0829    0.7087    0.0025   80253.6102   31789.8199    1.0000 ⋯\n",
       "        z[5]    0.9568    0.7735    0.0066   12853.8791   34776.8252    1.0002 ⋯\n",
       "        z[6]   -1.6925    0.8939    0.0119    5056.5734    2109.3677    1.0002 ⋯\n",
       "        z[7]   -0.0453    0.7041    0.0024   84562.8704   33172.2388    1.0001 ⋯\n",
       "        z[8]    0.3389    0.7093    0.0029   61003.2368   33816.2015    1.0000 ⋯\n",
       "        z[9]   -1.6379    0.8863    0.0112    5572.3705    2344.4618    1.0001 ⋯\n",
       "       z[10]   -0.8361    0.7583    0.0058   16654.8074   30817.9899    1.0000 ⋯\n",
       "       z[11]    0.9764    0.7795    0.0065   13708.4331   33965.3167    1.0000 ⋯\n",
       "       z[12]    0.0544    0.7177    0.0024   85634.5698   33927.0478    1.0001 ⋯\n",
       "       z[13]    0.0559    0.7083    0.0024   85706.9369   33536.5913    1.0000 ⋯\n",
       "       z[14]   -0.2705    0.7092    0.0027   67536.2659   33005.7358    1.0001 ⋯\n",
       "       z[15]   -0.0625    0.7024    0.0025   81260.7249   34521.7509    1.0000 ⋯\n",
       "       z[16]   -0.6409    0.7375    0.0044   28708.2407   35384.5593    1.0002 ⋯\n",
       "       z[17]    0.8511    0.7584    0.0058   16831.5772   35497.8424    1.0000 ⋯\n",
       "       z[18]   -0.2197    0.7020    0.0026   75705.3583   35116.4263    1.0000 ⋯\n",
       "       z[19]    0.5385    0.7261    0.0039   35388.3091   33574.8184    1.0000 ⋯\n",
       "       z[20]    0.6085    0.7348    0.0043   28816.0196   33585.2975    1.0000 ⋯\n",
       "\u001b[36m                                                                1 column omitted\u001b[0m\n",
       "\n",
       "Quantiles\n",
       " \u001b[1m parameters \u001b[0m \u001b[1m    2.5% \u001b[0m \u001b[1m   25.0% \u001b[0m \u001b[1m   50.0% \u001b[0m \u001b[1m   75.0% \u001b[0m \u001b[1m   97.5% \u001b[0m\n",
       " \u001b[90m     Symbol \u001b[0m \u001b[90m Float64 \u001b[0m \u001b[90m Float64 \u001b[0m \u001b[90m Float64 \u001b[0m \u001b[90m Float64 \u001b[0m \u001b[90m Float64 \u001b[0m\n",
       "\n",
       "           θ   -2.1670   -0.3968    0.0735    0.4816    1.1778\n",
       "        z[1]   -0.7689    0.0930    0.5642    1.0842    2.1466\n",
       "        z[2]   -0.7478    0.0999    0.5768    1.0889    2.1514\n",
       "        z[3]   -1.9261   -0.8874   -0.3962    0.0561    0.9412\n",
       "        z[4]   -1.3237   -0.3736    0.0724    0.5388    1.5066\n",
       "        z[5]   -0.4210    0.4026    0.9141    1.4647    2.5757\n",
       "        z[6]   -3.5171   -2.2892   -1.6630   -1.0617   -0.0478\n",
       "        z[7]   -1.4641   -0.4902   -0.0422    0.4030    1.3639\n",
       "        z[8]   -1.0241   -0.1264    0.3154    0.7985    1.7933\n",
       "        z[9]   -3.4589   -2.2265   -1.6076   -1.0079   -0.0282\n",
       "       z[10]   -2.4184   -1.3335   -0.7951   -0.2998    0.5348\n",
       "       z[11]   -0.4153    0.4176    0.9353    1.4863    2.5912\n",
       "       z[12]   -1.3649   -0.4084    0.0483    0.5169    1.4870\n",
       "       z[13]   -1.3486   -0.4007    0.0449    0.5101    1.4813\n",
       "       z[14]   -1.7177   -0.7217   -0.2440    0.1896    1.0995\n",
       "       z[15]   -1.4772   -0.5135   -0.0552    0.3889    1.3394\n",
       "       z[16]   -2.1785   -1.1155   -0.6066   -0.1273    0.7156\n",
       "       z[17]   -0.5132    0.3083    0.8131    1.3466    2.4342\n",
       "       z[18]   -1.6425   -0.6727   -0.2002    0.2336    1.1559\n",
       "       z[19]   -0.8079    0.0379    0.5021    1.0083    2.0424\n",
       "       z[20]   -0.7586    0.1001    0.5725    1.0838    2.1372\n"
      ]
     },
     "execution_count": 11,
     "metadata": {},
     "output_type": "execute_result"
    }
   ],
   "source": [
    "samples_hmc = sample(funnel_model, NUTS(10, 0.95), 50_000, progress=true; save_state=true)"
   ]
  },
  {
   "cell_type": "code",
   "execution_count": 12,
   "id": "f3585ec2",
   "metadata": {},
   "outputs": [
    {
     "name": "stderr",
     "output_type": "stream",
     "text": [
      "\u001b[36m\u001b[1m┌ \u001b[22m\u001b[39m\u001b[36m\u001b[1mInfo: \u001b[22m\u001b[39mFound initial step size\n",
      "\u001b[36m\u001b[1m└ \u001b[22m\u001b[39m  ϵ = 0.05\n",
      "\u001b[32mSampling: 100%|█████████████████████████████████████████| Time: 0:00:35\u001b[39m\n"
     ]
    },
    {
     "data": {
      "text/plain": [
       "Chains MCMC chain (50000×33×1 Array{Float64, 3}):\n",
       "\n",
       "Iterations        = 11:1:50010\n",
       "Number of chains  = 1\n",
       "Samples per chain = 50000\n",
       "Wall duration     = 37.85 seconds\n",
       "Compute duration  = 37.85 seconds\n",
       "parameters        = θ, z[1], z[2], z[3], z[4], z[5], z[6], z[7], z[8], z[9], z[10], z[11], z[12], z[13], z[14], z[15], z[16], z[17], z[18], z[19], z[20]\n",
       "internals         = lp, n_steps, is_accept, acceptance_rate, log_density, hamiltonian_energy, hamiltonian_energy_error, max_hamiltonian_energy_error, tree_depth, numerical_error, step_size, nom_step_size\n",
       "\n",
       "Summary Statistics\n",
       " \u001b[1m parameters \u001b[0m \u001b[1m    mean \u001b[0m \u001b[1m     std \u001b[0m \u001b[1m    mcse \u001b[0m \u001b[1m   ess_bulk \u001b[0m \u001b[1m   ess_tail \u001b[0m \u001b[1m    rhat\u001b[0m ⋯\n",
       " \u001b[90m     Symbol \u001b[0m \u001b[90m Float64 \u001b[0m \u001b[90m Float64 \u001b[0m \u001b[90m Float64 \u001b[0m \u001b[90m    Float64 \u001b[0m \u001b[90m    Float64 \u001b[0m \u001b[90m Float64\u001b[0m ⋯\n",
       "\n",
       "           θ   -0.0794    0.9006    0.0092   14111.5975   11935.7938    1.0000 ⋯\n",
       "        z[1]    0.5670    0.7163    0.0031   53549.9324   33890.4173    1.0000 ⋯\n",
       "        z[2]    0.5779    0.7195    0.0031   54638.1935   34212.6707    1.0000 ⋯\n",
       "        z[3]   -0.3918    0.7097    0.0030   55577.8889   34806.6904    1.0000 ⋯\n",
       "        z[4]    0.0754    0.7124    0.0030   57494.2485   35846.1569    1.0000 ⋯\n",
       "        z[5]    0.8967    0.7230    0.0032   52175.7671   31400.0299    1.0000 ⋯\n",
       "        z[6]   -1.5906    0.7410    0.0037   43046.7204   26391.2480    1.0001 ⋯\n",
       "        z[7]   -0.0442    0.7161    0.0029   59310.9088   34007.3827    1.0000 ⋯\n",
       "        z[8]    0.3161    0.7130    0.0030   55583.8635   34610.4038    1.0000 ⋯\n",
       "        z[9]   -1.5295    0.7372    0.0036   44559.5154   28545.6716    1.0000 ⋯\n",
       "       z[10]   -0.7849    0.7201    0.0031   53999.2989   34258.5457    1.0000 ⋯\n",
       "       z[11]    0.9112    0.7205    0.0032   50005.2384   34646.7306    1.0000 ⋯\n",
       "       z[12]    0.0542    0.7130    0.0029   59928.9543   34839.1755    1.0001 ⋯\n",
       "       z[13]    0.0498    0.7125    0.0029   59496.7261   35797.5606    1.0000 ⋯\n",
       "       z[14]   -0.2447    0.7150    0.0030   58071.6969   34284.4473    1.0000 ⋯\n",
       "       z[15]   -0.0545    0.7121    0.0029   58597.6107   36488.0019    1.0000 ⋯\n",
       "       z[16]   -0.6036    0.7188    0.0031   55279.5049   34749.0883    1.0000 ⋯\n",
       "       z[17]    0.7983    0.7191    0.0031   54976.9533   31399.7673    1.0000 ⋯\n",
       "       z[18]   -0.2081    0.7132    0.0030   58419.5851   34624.4786    1.0001 ⋯\n",
       "       z[19]    0.5063    0.7172    0.0031   54552.5099   33817.1206    1.0000 ⋯\n",
       "       z[20]    0.5690    0.7136    0.0031   54400.4037   35953.6905    1.0000 ⋯\n",
       "\u001b[36m                                                                1 column omitted\u001b[0m\n",
       "\n",
       "Quantiles\n",
       " \u001b[1m parameters \u001b[0m \u001b[1m    2.5% \u001b[0m \u001b[1m   25.0% \u001b[0m \u001b[1m   50.0% \u001b[0m \u001b[1m   75.0% \u001b[0m \u001b[1m   97.5% \u001b[0m\n",
       " \u001b[90m     Symbol \u001b[0m \u001b[90m Float64 \u001b[0m \u001b[90m Float64 \u001b[0m \u001b[90m Float64 \u001b[0m \u001b[90m Float64 \u001b[0m \u001b[90m Float64 \u001b[0m\n",
       "\n",
       "           θ   -2.2479   -0.4205    0.0624    0.4669    1.1543\n",
       "        z[1]   -0.8859    0.1067    0.5701    1.0340    1.9715\n",
       "        z[2]   -0.8488    0.1069    0.5787    1.0513    2.0036\n",
       "        z[3]   -1.7917   -0.8585   -0.3953    0.0696    1.0206\n",
       "        z[4]   -1.3475   -0.3909    0.0785    0.5412    1.4792\n",
       "        z[5]   -0.5627    0.4355    0.9006    1.3667    2.3131\n",
       "        z[6]   -3.0068   -2.0820   -1.6038   -1.1229   -0.0836\n",
       "        z[7]   -1.4648   -0.5169   -0.0440    0.4223    1.3866\n",
       "        z[8]   -1.1016   -0.1465    0.3166    0.7815    1.7322\n",
       "        z[9]   -2.9494   -2.0088   -1.5394   -1.0663   -0.0397\n",
       "       z[10]   -2.2000   -1.2570   -0.7889   -0.3183    0.6617\n",
       "       z[11]   -0.5358    0.4458    0.9143    1.3868    2.3147\n",
       "       z[12]   -1.3626   -0.4135    0.0527    0.5232    1.4788\n",
       "       z[13]   -1.3580   -0.4146    0.0437    0.5108    1.4625\n",
       "       z[14]   -1.6624   -0.7104   -0.2494    0.2217    1.1779\n",
       "       z[15]   -1.4602   -0.5184   -0.0557    0.4077    1.3528\n",
       "       z[16]   -2.0124   -1.0759   -0.6061   -0.1456    0.8422\n",
       "       z[17]   -0.6370    0.3341    0.8015    1.2678    2.2009\n",
       "       z[18]   -1.6140   -0.6744   -0.2079    0.2556    1.2195\n",
       "       z[19]   -0.9267    0.0479    0.5067    0.9676    1.9275\n",
       "       z[20]   -0.8466    0.1054    0.5699    1.0346    1.9706\n"
      ]
     },
     "execution_count": 12,
     "metadata": {},
     "output_type": "execute_result"
    }
   ],
   "source": [
    "truth_hmc = sample(true_model, NUTS(10, 0.95), 50_000, progress=true; save_state=true)"
   ]
  },
  {
   "cell_type": "code",
   "execution_count": 13,
   "id": "0dc8ef36",
   "metadata": {},
   "outputs": [],
   "source": [
    "theta_hmc = [samples_hmc.value.data[i, 1, :][1] for i in axes(samples_hmc.value.data)[1]]\n",
    "x10_hmc = [samples_hmc.value.data[i, 10+1, :][1] for i in axes(samples_hmc.value.data)[1]];\n"
   ]
  },
  {
   "cell_type": "code",
   "execution_count": 14,
   "id": "310a3cef",
   "metadata": {},
   "outputs": [],
   "source": [
    "true_theta_hmc = [truth_hmc.value.data[i, 1, :][1] for i in axes(truth_hmc.value.data)[1]]\n",
    "true_x10_hmc = [truth_hmc.value.data[i, 10+1, :][1] * exp(truth_hmc.value.data[i, 1, :][1]/2) for i in axes(truth_hmc.value.data)[1]];\n"
   ]
  },
  {
   "cell_type": "markdown",
   "id": "ced1df59",
   "metadata": {},
   "source": [
    "## Comp"
   ]
  },
  {
   "cell_type": "code",
   "execution_count": 18,
   "id": "e535d15d",
   "metadata": {},
   "outputs": [
    {
     "data": {
      "image/png": "[encoded data removed]",
      "text/plain": [
       "Figure(PyObject <Figure size 800x800 with 4 Axes>)"
      ]
     },
     "metadata": {},
     "output_type": "display_data"
    },
    {
     "data": {
      "text/plain": [
       "PyObject Text(0.5, 1.0, 'MCHMC')"
      ]
     },
     "execution_count": 18,
     "metadata": {},
     "output_type": "execute_result"
    }
   ],
   "source": [
    "fig, axis = plt.subplots(2, 2, figsize=(8,8))\n",
    "fig.suptitle(\"Neal's Funnel Comp.\", fontsize=16)\n",
    "\n",
    "fig.subplots_adjust(hspace=0)\n",
    "fig.subplots_adjust(wspace=0)\n",
    "\n",
    "axis[1,1].hist(x10_mchmc, bins=100, density=true, range=[-6,2], alpha = 0.3, label=\"MCHMC\")\n",
    "axis[1,1].hist(x10_hmc, bins=100, density=true, range=[-6,2], alpha = 0.3, label=\"NUTS\")\n",
    "axis[1,1].hist(true_x10_hmc, bins=100, density=true, range=[-6,2], alpha = 0.3, label=\"NUTS - Truth\")\n",
    "axis[1,1].legend()\n",
    "axis[1,1].set_yticks([])\n",
    "\n",
    "axis[2,2].hist(theta_mchmc, bins=100, density=true, orientation=\"horizontal\", range=[-6, 2], alpha = 0.3)\n",
    "axis[2,2].hist(theta_hmc, bins=100, density=true, orientation=\"horizontal\", range=[-6, 2], alpha = 0.3)\n",
    "axis[2,2].hist(true_theta_hmc, bins=100, density=true, orientation=\"horizontal\", range=[-6,2], alpha = 0.3)\n",
    "axis[2,2].set_xticks([])\n",
    "axis[2,2].set_yticks([])\n",
    "\n",
    "axis[1,2].hist2d(true_x10_hmc, true_theta_hmc, bins=100, range=[[-6,2],[-4, 2]])\n",
    "axis[1,2].set_xlabel(\"x10\")\n",
    "axis[1,2].set_ylabel(\"theta\")\n",
    "axis[1,2].set_title(\"NUTS\")\n",
    "\n",
    "axis[2,1].hist2d(x10_mchmc, theta_mchmc, bins=100, range=[[-6,2],[-4, 2]])\n",
    "axis[2,1].set_xlabel(\"x10\")\n",
    "axis[2,1].set_ylabel(\"theta\")\n",
    "axis[2,1].set_title(\"MCHMC\")"
   ]
  }
 ],
 "metadata": {
  "kernelspec": {
   "display_name": "Julia 1.9.3",
   "language": "julia",
   "name": "julia-1.9"
  },
  "language_info": {
   "file_extension": ".jl",
   "mimetype": "application/julia",
   "name": "julia",
   "version": "1.9.3"
  }
 },
 "nbformat": 4,
 "nbformat_minor": 5
}

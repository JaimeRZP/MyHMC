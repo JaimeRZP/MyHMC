{
 "cells": [
  {
   "attachments": {},
   "cell_type": "markdown",
   "id": "91129cb1",
   "metadata": {},
   "source": [
    "# Neal's Funnel Target Practice"
   ]
  },
  {
   "cell_type": "code",
   "execution_count": 1,
   "id": "86b96c9e",
   "metadata": {},
   "outputs": [
    {
     "name": "stderr",
     "output_type": "stream",
     "text": [
      "\u001b[32m\u001b[1m  Activating\u001b[22m\u001b[39m project at `~/PhD/MyHMC`\n"
     ]
    }
   ],
   "source": [
    "] activate \"../\""
   ]
  },
  {
   "cell_type": "code",
   "execution_count": 4,
   "id": "baed58e3",
   "metadata": {},
   "outputs": [
    {
     "name": "stderr",
     "output_type": "stream",
     "text": [
      "\u001b[36m\u001b[1m[ \u001b[22m\u001b[39m\u001b[36m\u001b[1mInfo: \u001b[22m\u001b[39mPrecompiling MyHMC [e346bbff-5309-45f6-ba08-fa9419f0c9f5]\n"
     ]
    }
   ],
   "source": [
    "# The statistical inference frame-work we will use\n",
    "using Turing\n",
    "using ForwardDiff\n",
    "using LinearAlgebra\n",
    "using Random\n",
    "#using StatsPlots\n",
    "using PyPlot\n",
    "using Distributed\n",
    "\n",
    "using Revise\n",
    "using MyHMC"
   ]
  },
  {
   "cell_type": "code",
   "execution_count": 5,
   "id": "90fdb90c",
   "metadata": {},
   "outputs": [
    {
     "data": {
      "text/plain": [
       "true_funnel (generic function with 2 methods)"
      ]
     },
     "execution_count": 5,
     "metadata": {},
     "output_type": "execute_result"
    }
   ],
   "source": [
    "d = 21\n",
    "@model function funnel()\n",
    "    θ ~ Normal(0, 3)\n",
    "    z ~ MvNormal(zeros(d-1), exp(θ)*I)\n",
    "    x ~ MvNormal(z, I)\n",
    "end\n",
    "\n",
    "@model function true_funnel()\n",
    "    θ ~ Normal(0, 3)\n",
    "    z ~ MvNormal(zeros(d-1), I)\n",
    "    zz = z .* exp(θ/2)\n",
    "    x ~ MvNormal(zz, I)\n",
    "    \n",
    "end"
   ]
  },
  {
   "cell_type": "code",
   "execution_count": 6,
   "id": "1eebe796",
   "metadata": {},
   "outputs": [
    {
     "data": {
      "text/plain": [
       "DynamicPPL.Model{typeof(true_funnel), (), (), (), Tuple{}, Tuple{}, DynamicPPL.ConditionContext{NamedTuple{(:x,), Tuple{Vector{Float64}}}, DynamicPPL.DefaultContext}}(true_funnel, NamedTuple(), NamedTuple(), ConditionContext((x = [1.2142074831535152, 1.23371919965455, -0.8480146960461767, 0.1600994648479841, 1.9180385508479283, -3.401523464506408, -0.0957684186471088, 0.6734622629464286, -3.2749467689509633, -1.6760091758453226, 1.9567202902549736, 0.1136169088905351, 0.11117896909388916, -0.5373922347882832, -0.12436857036298687, -1.2901071061088532, 1.702584517514787, -0.44460133117954226, 1.0818722439221686, 1.2208011493237483],), DynamicPPL.DefaultContext()))"
      ]
     },
     "execution_count": 6,
     "metadata": {},
     "output_type": "execute_result"
    }
   ],
   "source": [
    "Random.seed!(1)\n",
    "(;x) = rand(funnel() | (θ=0,))\n",
    "funnel_model = funnel() | (;x)\n",
    "\n",
    "Random.seed!(1)\n",
    "(;x) = rand(true_funnel() | (θ=0,))\n",
    "true_model = true_funnel() | (;x)"
   ]
  },
  {
   "attachments": {},
   "cell_type": "markdown",
   "id": "503e3204",
   "metadata": {},
   "source": [
    "## MyHMC"
   ]
  },
  {
   "cell_type": "code",
   "execution_count": 7,
   "id": "c8ed14a3",
   "metadata": {},
   "outputs": [
    {
     "ename": "LoadError",
     "evalue": "UndefVarError: `TuringTarget` not defined",
     "output_type": "error",
     "traceback": [
      "UndefVarError: `TuringTarget` not defined",
      "",
      "Stacktrace:",
      " [1] top-level scope",
      "   @ In[7]:1"
     ]
    }
   ],
   "source": [
    "target = TuringTarget(funnel_model; d=d, compute_MAP=false)\n",
    "true_target = TuringTarget(true_model; d=d, compute_MAP=false);"
   ]
  },
  {
   "cell_type": "code",
   "execution_count": null,
   "id": "7fba4eaa",
   "metadata": {
    "scrolled": false
   },
   "outputs": [],
   "source": [
    "spl = MyHMC(20, 0.25)\n",
    "@time samples_mchmc = Sample(spl, target, 10_000; dialog=false);"
   ]
  },
  {
   "cell_type": "code",
   "execution_count": null,
   "id": "0bdd65cb",
   "metadata": {},
   "outputs": [],
   "source": [
    "theta_mchmc = [sample[1] for sample in samples_mchmc]\n",
    "x10_mchmc = [sample[10+1] for sample in samples_mchmc]\n",
    "E = [sample[end-1] for sample in samples_mchmc];\n",
    "VarE = std(E)^2/d"
   ]
  },
  {
   "cell_type": "code",
   "execution_count": null,
   "id": "21ed40ae",
   "metadata": {},
   "outputs": [],
   "source": [
    "ESSs, rhat = Summarize(samples_mchmc)\n",
    "ESS = mean(ESSs)\n",
    "ESS/4.345784"
   ]
  },
  {
   "cell_type": "code",
   "execution_count": null,
   "id": "0cf315d0",
   "metadata": {},
   "outputs": [],
   "source": [
    "plt.plot(E, label=\"E/d\")\n",
    "plt.title(string(\"d = \", d, \" --> VarE/d = \", round(VarE, digits=5)))"
   ]
  },
  {
   "cell_type": "code",
   "execution_count": null,
   "id": "76b376d5",
   "metadata": {},
   "outputs": [],
   "source": [
    "fig, axis = plt.subplots(2, 2, figsize=(8,8))\n",
    "fig.suptitle(\"Neal's Funnel\", fontsize=16)\n",
    "\n",
    "fig.subplots_adjust(hspace=0)\n",
    "fig.subplots_adjust(wspace=0)\n",
    "\n",
    "axis[1,1].hist(x10_mchmc, bins=100, range=[-6,2], alpha = 0.3, density=true, label=\"MyHMC\")\n",
    "axis[1,1].legend()\n",
    "axis[1,1].set_yticks([])\n",
    "\n",
    "axis[2,2].hist(theta_mchmc, bins=100, orientation=\"horizontal\", range=[-6, 2], alpha = 0.3, density=true)\n",
    "axis[2,2].set_xticks([])\n",
    "axis[2,2].set_yticks([])\n",
    "\n",
    "axis[2,1].hist2d(x10_mchmc, theta_mchmc, bins=100, range=[[-6,2],[-4, 2]])\n",
    "axis[2,1].set_xlabel(\"x10\")\n",
    "axis[2,1].set_ylabel(\"theta\")\n",
    "axis[2,1].set_title(\"MCHMC\")\n",
    ";"
   ]
  },
  {
   "attachments": {},
   "cell_type": "markdown",
   "id": "4aadd3b5",
   "metadata": {},
   "source": [
    "## NUTS"
   ]
  },
  {
   "cell_type": "code",
   "execution_count": null,
   "id": "dcbe40a3",
   "metadata": {},
   "outputs": [],
   "source": [
    "samples_hmc = sample(funnel_model, NUTS(10, 0.95), 50_000, progress=true; save_state=true)"
   ]
  },
  {
   "cell_type": "code",
   "execution_count": null,
   "id": "f3585ec2",
   "metadata": {},
   "outputs": [],
   "source": [
    "truth_hmc = sample(true_model, NUTS(10, 0.95), 50_000, progress=true; save_state=true)"
   ]
  },
  {
   "cell_type": "code",
   "execution_count": null,
   "id": "0dc8ef36",
   "metadata": {},
   "outputs": [],
   "source": [
    "theta_hmc = [samples_hmc.value.data[i, 1, :][1] for i in axes(samples_hmc.value.data)[1]]\n",
    "x10_hmc = [samples_hmc.value.data[i, 10+1, :][1] for i in axes(samples_hmc.value.data)[1]];\n"
   ]
  },
  {
   "cell_type": "code",
   "execution_count": null,
   "id": "310a3cef",
   "metadata": {},
   "outputs": [],
   "source": [
    "true_theta_hmc = [truth_hmc.value.data[i, 1, :][1] for i in axes(truth_hmc.value.data)[1]]\n",
    "true_x10_hmc = [truth_hmc.value.data[i, 10+1, :][1] * exp(truth_hmc.value.data[i, 1, :][1]/2) for i in axes(truth_hmc.value.data)[1]];\n"
   ]
  },
  {
   "cell_type": "code",
   "execution_count": null,
   "id": "e535d15d",
   "metadata": {},
   "outputs": [],
   "source": [
    "fig, axis = plt.subplots(2, 2, figsize=(8,8))\n",
    "fig.suptitle(\"Neal's Funnel\", fontsize=16)\n",
    "\n",
    "fig.subplots_adjust(hspace=0)\n",
    "fig.subplots_adjust(wspace=0)\n",
    "\n",
    "axis[1,1].hist(x10_hmc, bins=100, range=[-6,2], alpha = 0.3, label=\"NUTS\")\n",
    "axis[1,1].hist(true_x10_hmc, bins=100, range=[-6,2], alpha = 0.3, label=\"Truth - NUTS\")\n",
    "axis[1,1].legend()\n",
    "axis[1,1].set_yticks([])\n",
    "\n",
    "axis[2,2].hist(theta_hmc, bins=100, orientation=\"horizontal\", range=[-6, 2], alpha = 0.3)\n",
    "axis[2,2].hist(true_theta_hmc, bins=100, orientation=\"horizontal\", range=[-6, 2], alpha = 0.3)\n",
    "axis[2,2].set_xticks([])\n",
    "axis[2,2].set_yticks([])\n",
    "\n",
    "axis[1,2].hist2d(true_x10_hmc, true_theta_hmc, bins=100, range=[[-6,2],[-4, 2]])\n",
    "axis[1,2].set_xlabel(\"x10\")\n",
    "axis[1,2].set_ylabel(\"theta\")\n",
    "axis[1,2].set_title(\"Truth\")\n",
    "\n",
    "axis[2,1].hist2d(x10_hmc, theta_hmc, bins=100, range=[[-6,2],[-4, 2]])\n",
    "axis[2,1].set_xlabel(\"x10\")\n",
    "axis[2,1].set_ylabel(\"theta\")\n",
    "axis[2,1].set_title(\"Funnel\")\n",
    ";"
   ]
  },
  {
   "cell_type": "code",
   "execution_count": null,
   "id": "0ee89c66",
   "metadata": {},
   "outputs": [],
   "source": [
    "fig, axis = plt.subplots(2, 2, figsize=(8,8))\n",
    "fig.suptitle(\"Neal's Funnel Comp.\", fontsize=16)\n",
    "\n",
    "fig.subplots_adjust(hspace=0)\n",
    "fig.subplots_adjust(wspace=0)\n",
    "\n",
    "axis[1,1].hist(x10_mchmc, bins=100, density=true, range=[-6,2], alpha = 0.3, label=\"MCHMC\")\n",
    "axis[1,1].hist(x10_mchmc_adaptive, bins=100, density=true, range=[-6,2], alpha = 0.3, label=\"MCHMC - adaptive\")\n",
    "axis[1,1].hist(true_x10_hmc, bins=100, density=true, range=[-6,2], alpha = 0.3, label=\"NUTS - Truth\")\n",
    "axis[1,1].legend()\n",
    "axis[1,1].set_yticks([])\n",
    "\n",
    "axis[2,2].hist(theta_mchmc, bins=100, density=true, orientation=\"horizontal\", range=[-6, 2], alpha = 0.3)\n",
    "axis[2,2].hist(theta_mchmc_adaptive, bins=100, density=true, orientation=\"horizontal\", range=[-6, 2], alpha = 0.3)\n",
    "axis[2,2].hist(true_theta_hmc, bins=100, density=true, orientation=\"horizontal\", range=[-6,2], alpha = 0.3)\n",
    "axis[2,2].set_xticks([])\n",
    "axis[2,2].set_yticks([])\n",
    "\n",
    "axis[1,2].hist2d(true_x10_hmc, true_theta_hmc, bins=100, range=[[-6,2],[-4, 2]])\n",
    "axis[1,2].set_xlabel(\"x10\")\n",
    "axis[1,2].set_ylabel(\"theta\")\n",
    "axis[1,2].set_title(\"NUTS\")\n",
    "\n",
    "axis[2,1].hist2d(x10_mchmc, theta_mchmc, bins=100, range=[[-6,2],[-4, 2]])\n",
    "axis[2,1].set_xlabel(\"x10\")\n",
    "axis[2,1].set_ylabel(\"theta\")\n",
    "axis[2,1].set_title(\"MCHMC\")\n",
    ";"
   ]
  },
  {
   "cell_type": "code",
   "execution_count": null,
   "id": "2694ab85",
   "metadata": {},
   "outputs": [],
   "source": [
    "println(median(true_theta_hmc), \" --> \", mean(true_theta_hmc), \" +/- \", std(true_theta_hmc))\n",
    "println(median(true_x10_hmc), \" --> \", mean(true_x10_hmc), \" +/- \", std(true_x10_hmc))"
   ]
  },
  {
   "cell_type": "code",
   "execution_count": null,
   "id": "0cfa4f7f",
   "metadata": {},
   "outputs": [],
   "source": []
  },
  {
   "cell_type": "code",
   "execution_count": null,
   "id": "99b3fea6",
   "metadata": {},
   "outputs": [],
   "source": []
  }
 ],
 "metadata": {
  "kernelspec": {
   "display_name": "Julia 1.9.3",
   "language": "julia",
   "name": "julia-1.9"
  },
  "language_info": {
   "file_extension": ".jl",
   "mimetype": "application/julia",
   "name": "julia",
   "version": "1.9.3"
  }
 },
 "nbformat": 4,
 "nbformat_minor": 5
}

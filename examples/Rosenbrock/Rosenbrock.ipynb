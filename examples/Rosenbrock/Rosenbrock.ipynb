{
 "cells": [
  {
   "attachments": {},
   "cell_type": "markdown",
   "id": "91129cb1",
   "metadata": {},
   "source": [
    "# Rosembrock Target Practice"
   ]
  },
  {
   "attachments": {},
   "cell_type": "markdown",
   "id": "97121235",
   "metadata": {},
   "source": [
    "## MCHMC"
   ]
  },
  {
   "cell_type": "code",
   "execution_count": 1,
   "id": "86b96c9e",
   "metadata": {},
   "outputs": [
    {
     "name": "stderr",
     "output_type": "stream",
     "text": [
      "\u001b[32m\u001b[1m  Activating\u001b[22m\u001b[39m project at `~/PhD/MyHMC/examples`\n"
     ]
    }
   ],
   "source": [
    "] activate \"../\""
   ]
  },
  {
   "cell_type": "code",
   "execution_count": 2,
   "id": "baed58e3",
   "metadata": {},
   "outputs": [],
   "source": [
    "using Distributions\n",
    "using ForwardDiff\n",
    "using LinearAlgebra\n",
    "using Random\n",
    "#using StatsPlots\n",
    "using PyPlot\n",
    "using Distributed\n",
    "\n",
    "using Revise\n",
    "using MyHMC"
   ]
  },
  {
   "cell_type": "code",
   "execution_count": 3,
   "id": "09dcdce0",
   "metadata": {},
   "outputs": [],
   "source": [
    "target = RosenbrockTarget(1.0, 10.0; d=2);"
   ]
  },
  {
   "cell_type": "code",
   "execution_count": 4,
   "id": "a737261d",
   "metadata": {},
   "outputs": [],
   "source": [
    "X = LinRange(-3, 5, 100)\n",
    "Y = LinRange(-2, 18, 100)\n",
    "Z = zeros(length(X), length(Y))\n",
    "for i in 1:length(X)\n",
    "    for j in 1:length(Y)\n",
    "        x = X[i]\n",
    "        y = Y[j]\n",
    "        Z[i, j] = exp(target.h.ℓπ([x; y]))\n",
    "    end\n",
    "end"
   ]
  },
  {
   "cell_type": "code",
   "execution_count": 5,
   "id": "6896b4ca",
   "metadata": {},
   "outputs": [
    {
     "data": {
      "text/plain": [
       "100-element Vector{Float64}:\n",
       " 7.162829369412773e-5\n",
       " 9.863809139860455e-5\n",
       " 0.00013494872801976375\n",
       " 0.0001834243594214731\n",
       " 0.0002476904756917828\n",
       " 0.000332296436430068\n",
       " 0.000442900469948504\n",
       " 0.0005864765865858889\n",
       " 0.0007715415106920719\n",
       " 0.0010083980468276281\n",
       " 0.001309389262123287\n",
       " 0.001689155512694095\n",
       " 0.0021648837232836893\n",
       " ⋮\n",
       " 0.0016890587797713194\n",
       " 0.001251217459171278\n",
       " 0.00031134149060358854\n",
       " 2.3604574783005898e-6\n",
       " 1.5088638240128408e-10\n",
       " 4.865587974811031e-17\n",
       " 5.648489440875084e-26\n",
       " 1.7465706115620848e-37\n",
       " 1.0692541153538504e-51\n",
       " 9.6070764266984e-69\n",
       " 9.347706927905418e-89\n",
       " 7.231720986524703e-112"
      ]
     },
     "execution_count": 5,
     "metadata": {},
     "output_type": "execute_result"
    }
   ],
   "source": [
    "d2_truth = vec(normalize(sum(Z, dims=1)))\n",
    "d1_truth = vec(normalize(sum(Z, dims=2)))"
   ]
  },
  {
   "cell_type": "code",
   "execution_count": 6,
   "id": "b5f95935",
   "metadata": {},
   "outputs": [
    {
     "data": {
      "image/png": "[encoded data removed]",
      "text/plain": [
       "Figure(PyObject <Figure size 640x480 with 1 Axes>)"
      ]
     },
     "metadata": {},
     "output_type": "display_data"
    },
    {
     "data": {
      "text/plain": [
       "PyObject <matplotlib.image.AxesImage object at 0x7f0d3af51040>"
      ]
     },
     "execution_count": 6,
     "metadata": {},
     "output_type": "execute_result"
    }
   ],
   "source": [
    "plt.imshow(Z)"
   ]
  },
  {
   "cell_type": "code",
   "execution_count": 8,
   "id": "6aedc238",
   "metadata": {},
   "outputs": [
    {
     "data": {
      "text/plain": [
       "MyHMC.MyHMCSampler(Settings(1, \"LF\"), MyHMC.Hyperparameters(0.01, 20, [0.0]), MyHMC.Leapfrog)"
      ]
     },
     "execution_count": 8,
     "metadata": {},
     "output_type": "execute_result"
    }
   ],
   "source": [
    "d = 2\n",
    "spl = MyHMC.HMC(20, 0.01)"
   ]
  },
  {
   "cell_type": "code",
   "execution_count": 9,
   "id": "9f047933",
   "metadata": {},
   "outputs": [
    {
     "name": "stderr",
     "output_type": "stream",
     "text": [
      "\u001b[36m\u001b[1m[ \u001b[22m\u001b[39m\u001b[36m\u001b[1mInfo: \u001b[22m\u001b[39msampling from prior\n",
      "\u001b[A2mMyHMC: 100%|████████████████████████████████████████████| Time: 0:00:31\u001b[39m:29\u001b[39m"
     ]
    }
   ],
   "source": [
    "samples_mchmc = Sample(spl, target, 500_000; dialog=true);"
   ]
  },
  {
   "cell_type": "code",
   "execution_count": 10,
   "id": "d4409f29",
   "metadata": {},
   "outputs": [
    {
     "data": {
      "text/plain": [
       "500000-element Vector{Any}:\n",
       " [-0.11738921304701744, 2.289668030040926, 0.0, -26.522605779135755]\n",
       " [NaN, NaN, NaN, NaN]\n",
       " [NaN, NaN, NaN, NaN]\n",
       " [NaN, NaN, NaN, NaN]\n",
       " [NaN, NaN, NaN, NaN]\n",
       " [NaN, NaN, NaN, NaN]\n",
       " [NaN, NaN, NaN, NaN]\n",
       " [NaN, NaN, NaN, NaN]\n",
       " [NaN, NaN, NaN, NaN]\n",
       " [NaN, NaN, NaN, NaN]\n",
       " [NaN, NaN, NaN, NaN]\n",
       " [NaN, NaN, NaN, NaN]\n",
       " [NaN, NaN, NaN, NaN]\n",
       " ⋮\n",
       " [NaN, NaN, NaN, NaN]\n",
       " [NaN, NaN, NaN, NaN]\n",
       " [NaN, NaN, NaN, NaN]\n",
       " [NaN, NaN, NaN, NaN]\n",
       " [NaN, NaN, NaN, NaN]\n",
       " [NaN, NaN, NaN, NaN]\n",
       " [NaN, NaN, NaN, NaN]\n",
       " [NaN, NaN, NaN, NaN]\n",
       " [NaN, NaN, NaN, NaN]\n",
       " [NaN, NaN, NaN, NaN]\n",
       " [NaN, NaN, NaN, NaN]\n",
       " [NaN, NaN, NaN, NaN]"
      ]
     },
     "execution_count": 10,
     "metadata": {},
     "output_type": "execute_result"
    }
   ],
   "source": [
    "samples_mchmc"
   ]
  },
  {
   "cell_type": "code",
   "execution_count": null,
   "id": "ad509f8c",
   "metadata": {},
   "outputs": [],
   "source": [
    "d1_mchmc = [sample[1] for sample in samples_mchmc]\n",
    "d2_mchmc = [sample[2] for sample in samples_mchmc];"
   ]
  },
  {
   "attachments": {},
   "cell_type": "markdown",
   "id": "0e05b7ed",
   "metadata": {},
   "source": [
    "## NUTS"
   ]
  },
  {
   "cell_type": "code",
   "execution_count": null,
   "id": "afc1ddfb",
   "metadata": {},
   "outputs": [],
   "source": [
    "using AdvancedHMC\n",
    "using LogDensityProblems"
   ]
  },
  {
   "cell_type": "code",
   "execution_count": null,
   "id": "c38610c3",
   "metadata": {},
   "outputs": [],
   "source": [
    "# Define the target distribution using the `LogDensityProblem` interface\n",
    "struct LogTargetDensity\n",
    "    dim::Int\n",
    "end\n",
    "LogDensityProblems.logdensity(p::LogTargetDensity, θ) = target.h.ℓπ(θ) #-sum(abs2, θ) / 2  # standard multivariate normal\n",
    "LogDensityProblems.dimension(p::LogTargetDensity) = p.dim\n",
    "LogDensityProblems.capabilities(::Type{LogTargetDensity}) = LogDensityProblems.LogDensityOrder{0}()"
   ]
  },
  {
   "cell_type": "code",
   "execution_count": null,
   "id": "d2091ef2",
   "metadata": {},
   "outputs": [],
   "source": [
    "# Choose parameter dimensionality and initial parameter value\n",
    "initial_θ = target.prior_draw()\n",
    "ℓπ = LogTargetDensity(target.d)\n",
    "\n",
    "# Set the number of samples to draw and warmup iterations\n",
    "n_samples, n_adapts = 100_000, 10_000\n",
    "\n",
    "# Define a Hamiltonian system\n",
    "metric = DiagEuclideanMetric(target.d)\n",
    "hamiltonian = Hamiltonian(metric, ℓπ, ForwardDiff)\n",
    "\n",
    "# Define a leapfrog solver, with initial step size chosen heuristically\n",
    "initial_ϵ = find_good_stepsize(hamiltonian, initial_θ)\n",
    "integrator = AdvancedHMC.Leapfrog(initial_ϵ)\n",
    "\n",
    "# Define an HMC sampler, with the following components\n",
    "#   - multinomial sampling scheme,\n",
    "#   - generalised No-U-Turn criteria, and\n",
    "#   - windowed adaption for step-size and diagonal mass matrix\n",
    "kernel = HMCKernel(Trajectory{MultinomialTS}(integrator, GeneralisedNoUTurn()))\n",
    "adaptor = StanHMCAdaptor(MassMatrixAdaptor(metric), StepSizeAdaptor(0.9, integrator))\n",
    "\n",
    "# Run the sampler to draw samples from the specified Gaussian, where\n",
    "#   - `samples` will store the samples\n",
    "#   - `stats` will store diagnostic statistics for each sample\n",
    "samples_hmc, stats = sample(hamiltonian, kernel, initial_θ, n_samples, adaptor, n_adapts; progress=true);"
   ]
  },
  {
   "cell_type": "code",
   "execution_count": null,
   "id": "0bae18fb",
   "metadata": {},
   "outputs": [],
   "source": [
    "d1_hmc = [sample[1] for sample in samples_hmc]\n",
    "d2_hmc = [sample[2] for sample in samples_hmc];"
   ]
  },
  {
   "cell_type": "code",
   "execution_count": null,
   "id": "01881939",
   "metadata": {},
   "outputs": [],
   "source": [
    "fig, axis = plt.subplots(2, 2, figsize=(8,8))\n",
    "fig.suptitle(\"Neal's Funnel Comp.\", fontsize=16)\n",
    "\n",
    "fig.subplots_adjust(hspace=0)\n",
    "fig.subplots_adjust(wspace=0)\n",
    "\n",
    "axis[1,1].hist(d1_mchmc, bins=100, density=true, range=[-3,5], alpha = 0.3, label=\"MCHMC\")\n",
    "axis[1,1].hist(d1_hmc, bins=100, density=true, range=[-3,5], alpha = 0.3, label=\"NUTS\")\n",
    "axis[1,1].plot(X, d1_truth, \"g--\", label=\"Truth\")\n",
    "axis[1,1].legend()\n",
    "axis[1,1].set_yticks([])\n",
    "\n",
    "axis[2,2].hist(d2_mchmc, bins=100, density=true, orientation=\"horizontal\", range=[-2, 18], alpha = 0.3)\n",
    "axis[2,2].hist(d2_hmc, bins=100, density=true, orientation=\"horizontal\", range=[-2, 18], alpha = 0.3)\n",
    "axis[2,2].plot(d2_truth, Y, \"g--\", label=\"Truth\")\n",
    "axis[2,2].set_xticks([])\n",
    "axis[2,2].set_yticks([])\n",
    "\n",
    "axis[1,2].hist2d(d1_hmc, d2_hmc, bins=100, range=[[-3,5],[-2, 18]])\n",
    "axis[1,2].set_title(\"NUTS\")\n",
    "\n",
    "axis[2,1].hist2d(d1_mchmc, d2_mchmc, bins=100, range=[[-3,5],[-2, 18]])\n",
    "axis[2,1].set_title(\"MCHMC\")\n",
    ";"
   ]
  },
  {
   "cell_type": "code",
   "execution_count": null,
   "id": "3a811ff2",
   "metadata": {},
   "outputs": [],
   "source": []
  },
  {
   "cell_type": "code",
   "execution_count": null,
   "id": "10aa2332",
   "metadata": {},
   "outputs": [],
   "source": []
  }
 ],
 "metadata": {
  "kernelspec": {
   "display_name": "Julia 1.9.3",
   "language": "julia",
   "name": "julia-1.9"
  },
  "language_info": {
   "file_extension": ".jl",
   "mimetype": "application/julia",
   "name": "julia",
   "version": "1.9.3"
  }
 },
 "nbformat": 4,
 "nbformat_minor": 5
}
